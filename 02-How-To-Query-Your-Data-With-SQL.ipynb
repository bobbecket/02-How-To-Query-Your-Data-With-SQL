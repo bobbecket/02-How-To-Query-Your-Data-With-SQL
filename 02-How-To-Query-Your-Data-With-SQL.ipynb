{
 "cells": [
  {
   "cell_type": "markdown",
   "metadata": {},
   "source": [
    "### How To Query Your Data With SQL:\n",
    "\n",
    "First, we'll import some dependencies and filter out warnings:"
   ]
  },
  {
   "cell_type": "code",
   "execution_count": 167,
   "metadata": {
    "scrolled": false
   },
   "outputs": [],
   "source": [
    "import numpy as np\n",
    "import pandas as pd\n",
    "from pandasql import sqldf, load_meat\n",
    "\n",
    "import warnings\n",
    "warnings.filterwarnings('ignore')"
   ]
  },
  {
   "cell_type": "markdown",
   "metadata": {},
   "source": [
    "Next, we'll load the \"meat\" data frame:"
   ]
  },
  {
   "cell_type": "code",
   "execution_count": 168,
   "metadata": {
    "scrolled": false
   },
   "outputs": [],
   "source": [
    "meat = load_meat()"
   ]
  },
  {
   "cell_type": "markdown",
   "metadata": {},
   "source": [
    "Let's define a \"wrapper function\" so we don't have to keep typing \"globals\" in our query calls:"
   ]
  },
  {
   "cell_type": "code",
   "execution_count": 169,
   "metadata": {
    "scrolled": false
   },
   "outputs": [],
   "source": [
    "def pysqldf(x):\n",
    "    return sqldf(x, globals())"
   ]
  },
  {
   "cell_type": "markdown",
   "metadata": {},
   "source": [
    "OK! Let's take a look at how to do some SQL queries...\n",
    "\n",
    "### How To Retrieve All Records From A Table:"
   ]
  },
  {
   "cell_type": "code",
   "execution_count": 180,
   "metadata": {
    "scrolled": true
   },
   "outputs": [
    {
     "name": "stdout",
     "output_type": "stream",
     "text": [
      "                         date   beef   veal    pork  lamb_and_mutton broilers  \\\n",
      "0  1944-01-01 00:00:00.000000  751.0   85.0  1280.0             89.0     None   \n",
      "1  1944-02-01 00:00:00.000000  713.0   77.0  1169.0             72.0     None   \n",
      "2  1944-03-01 00:00:00.000000  741.0   90.0  1128.0             75.0     None   \n",
      "3  1944-04-01 00:00:00.000000  650.0   89.0   978.0             66.0     None   \n",
      "4  1944-05-01 00:00:00.000000  681.0  106.0  1029.0             78.0     None   \n",
      "\n",
      "  other_chicken turkey  \n",
      "0          None   None  \n",
      "1          None   None  \n",
      "2          None   None  \n",
      "3          None   None  \n",
      "4          None   None  \n"
     ]
    }
   ],
   "source": [
    "q = \"SELECT * FROM meat LIMIT 5;\"\n",
    "print(pysqldf(q))"
   ]
  },
  {
   "cell_type": "markdown",
   "metadata": {},
   "source": [
    "### How To Retrieve Only 'Date' and 'Beef' fields:"
   ]
  },
  {
   "cell_type": "code",
   "execution_count": 171,
   "metadata": {
    "scrolled": false
   },
   "outputs": [
    {
     "name": "stdout",
     "output_type": "stream",
     "text": [
      "                         date   beef\n",
      "0  1944-01-01 00:00:00.000000  751.0\n",
      "1  1944-02-01 00:00:00.000000  713.0\n",
      "2  1944-03-01 00:00:00.000000  741.0\n",
      "3  1944-04-01 00:00:00.000000  650.0\n",
      "4  1944-05-01 00:00:00.000000  681.0\n"
     ]
    }
   ],
   "source": [
    "q = \"SELECT DATE, BEEF FROM meat LIMIT 5;\"\n",
    "print(pysqldf(q))"
   ]
  },
  {
   "cell_type": "markdown",
   "metadata": {},
   "source": [
    "### How To Retrieve Only 'Veal' With Value More Than 200:"
   ]
  },
  {
   "cell_type": "code",
   "execution_count": 172,
   "metadata": {
    "scrolled": false
   },
   "outputs": [
    {
     "name": "stdout",
     "output_type": "stream",
     "text": [
      "    veal\n",
      "0  215.0\n",
      "1  201.0\n"
     ]
    }
   ],
   "source": [
    "q = \"SELECT VEAL FROM meat WHERE VEAL > 200;\"\n",
    "print(pysqldf(q))"
   ]
  },
  {
   "cell_type": "markdown",
   "metadata": {},
   "source": [
    "### How To Retrieve Only 'Veal' With Value More Than 75 and Dates From 1975 And After:"
   ]
  },
  {
   "cell_type": "code",
   "execution_count": 173,
   "metadata": {
    "scrolled": false
   },
   "outputs": [
    {
     "name": "stdout",
     "output_type": "stream",
     "text": [
      "                         date  veal\n",
      "0  1975-07-01 00:00:00.000000  77.0\n",
      "1  1975-09-01 00:00:00.000000  82.0\n",
      "2  1975-10-01 00:00:00.000000  95.0\n",
      "3  1975-11-01 00:00:00.000000  76.0\n",
      "4  1975-12-01 00:00:00.000000  76.0\n",
      "5  1976-12-01 00:00:00.000000  77.0\n"
     ]
    }
   ],
   "source": [
    "q = \"SELECT DATE, VEAL FROM meat WHERE VEAL > 75 AND DATE > '1974-12-31';\"\n",
    "print(pysqldf(q))"
   ]
  },
  {
   "cell_type": "markdown",
   "metadata": {},
   "source": [
    "### How To Retrieve Records With Pork More Than 2100 Or Date Is Before 1945:"
   ]
  },
  {
   "cell_type": "code",
   "execution_count": 174,
   "metadata": {
    "scrolled": false
   },
   "outputs": [
    {
     "name": "stdout",
     "output_type": "stream",
     "text": [
      "                          date    beef   veal    pork  lamb_and_mutton  \\\n",
      "0   1944-01-01 00:00:00.000000   751.0   85.0  1280.0             89.0   \n",
      "1   1944-02-01 00:00:00.000000   713.0   77.0  1169.0             72.0   \n",
      "2   1944-03-01 00:00:00.000000   741.0   90.0  1128.0             75.0   \n",
      "3   1944-04-01 00:00:00.000000   650.0   89.0   978.0             66.0   \n",
      "4   1944-05-01 00:00:00.000000   681.0  106.0  1029.0             78.0   \n",
      "5   1944-06-01 00:00:00.000000   658.0  125.0   962.0             79.0   \n",
      "6   1944-07-01 00:00:00.000000   662.0  142.0   796.0             82.0   \n",
      "7   1944-08-01 00:00:00.000000   787.0  175.0   748.0             87.0   \n",
      "8   1944-09-01 00:00:00.000000   774.0  182.0   678.0             91.0   \n",
      "9   1944-10-01 00:00:00.000000   834.0  215.0   777.0            100.0   \n",
      "10  1944-11-01 00:00:00.000000   786.0  197.0   944.0             91.0   \n",
      "11  1944-12-01 00:00:00.000000   764.0  146.0  1013.0             91.0   \n",
      "12  2007-10-01 00:00:00.000000  2443.0   11.1  2145.1             16.4   \n",
      "13  2008-01-01 00:00:00.000000  2232.7   11.3  2159.0             14.7   \n",
      "14  2008-10-01 00:00:00.000000  2340.9   13.5  2159.9             15.0   \n",
      "15  2012-10-01 00:00:00.000000  2343.7   10.3  2210.4             14.2   \n",
      "\n",
      "    broilers  other_chicken  turkey  \n",
      "0        NaN            NaN     NaN  \n",
      "1        NaN            NaN     NaN  \n",
      "2        NaN            NaN     NaN  \n",
      "3        NaN            NaN     NaN  \n",
      "4        NaN            NaN     NaN  \n",
      "5        NaN            NaN     NaN  \n",
      "6        NaN            NaN     NaN  \n",
      "7        NaN            NaN     NaN  \n",
      "8        NaN            NaN     NaN  \n",
      "9        NaN            NaN     NaN  \n",
      "10       NaN            NaN     NaN  \n",
      "11       NaN            NaN     NaN  \n",
      "12    3383.8           47.6   585.1  \n",
      "13    3237.2           45.7   546.4  \n",
      "14    3270.6           50.6   581.8  \n",
      "15    3335.0           43.8   579.9  \n"
     ]
    }
   ],
   "source": [
    "q = \"SELECT * FROM meat WHERE PORK > 2100 OR DATE < '1945-01-01';\"\n",
    "print(pysqldf(q))"
   ]
  },
  {
   "cell_type": "markdown",
   "metadata": {},
   "source": [
    "### How To Retrieve Beef Whose Value Is Between 680 and 700:"
   ]
  },
  {
   "cell_type": "code",
   "execution_count": 175,
   "metadata": {
    "scrolled": false
   },
   "outputs": [
    {
     "name": "stdout",
     "output_type": "stream",
     "text": [
      "    beef\n",
      "0  681.0\n",
      "1  700.0\n",
      "2  681.0\n",
      "3  697.0\n",
      "4  694.0\n",
      "5  696.0\n",
      "6  697.0\n",
      "7  699.0\n",
      "8  685.0\n",
      "9  698.0\n"
     ]
    }
   ],
   "source": [
    "q = \"SELECT BEEF FROM meat WHERE BEEF BETWEEN 680 AND 700;\"\n",
    "print(pysqldf(q))"
   ]
  },
  {
   "cell_type": "markdown",
   "metadata": {},
   "source": [
    "### How To Find The Total Number Of Records:"
   ]
  },
  {
   "cell_type": "code",
   "execution_count": 176,
   "metadata": {
    "scrolled": false
   },
   "outputs": [
    {
     "name": "stdout",
     "output_type": "stream",
     "text": [
      "   COUNT(*)\n",
      "0       827\n"
     ]
    }
   ],
   "source": [
    "q = \"SELECT COUNT(*) FROM meat;\"\n",
    "print(pysqldf(q))"
   ]
  },
  {
   "cell_type": "markdown",
   "metadata": {},
   "source": [
    "### How To Find The Minimum Beef Value:"
   ]
  },
  {
   "cell_type": "code",
   "execution_count": 177,
   "metadata": {
    "scrolled": false
   },
   "outputs": [
    {
     "name": "stdout",
     "output_type": "stream",
     "text": [
      "   MIN(BEEF)\n",
      "0      366.0\n"
     ]
    }
   ],
   "source": [
    "q = \"SELECT MIN(BEEF) FROM meat;\"\n",
    "print(pysqldf(q))"
   ]
  },
  {
   "cell_type": "markdown",
   "metadata": {},
   "source": [
    "### How To Find The Maximum Beef Value:"
   ]
  },
  {
   "cell_type": "code",
   "execution_count": 178,
   "metadata": {
    "scrolled": false
   },
   "outputs": [
    {
     "name": "stdout",
     "output_type": "stream",
     "text": [
      "   MAX(BEEF)\n",
      "0     2512.0\n"
     ]
    }
   ],
   "source": [
    "q = \"SELECT MAX(BEEF) FROM meat;\"\n",
    "print(pysqldf(q))"
   ]
  }
 ],
 "metadata": {
  "kernelspec": {
   "display_name": "Python 3",
   "language": "python",
   "name": "python3"
  },
  "language_info": {
   "codemirror_mode": {
    "name": "ipython",
    "version": 3
   },
   "file_extension": ".py",
   "mimetype": "text/x-python",
   "name": "python",
   "nbconvert_exporter": "python",
   "pygments_lexer": "ipython3",
   "version": "3.7.3"
  }
 },
 "nbformat": 4,
 "nbformat_minor": 2
}
